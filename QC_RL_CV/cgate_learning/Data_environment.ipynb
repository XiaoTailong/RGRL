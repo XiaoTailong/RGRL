{
 "cells": [
  {
   "cell_type": "code",
   "execution_count": 5,
   "id": "5695a01d",
   "metadata": {},
   "outputs": [],
   "source": [
    "import strawberryfields as sf\n",
    "import numpy as np\n",
    "from tqdm import tqdm\n"
   ]
  },
  {
   "cell_type": "code",
   "execution_count": 6,
   "id": "f608e522",
   "metadata": {},
   "outputs": [],
   "source": [
    "scale = np.sqrt(sf.hbar)\n",
    "num_states= 100\n",
    "num_train_states = 90\n",
    "num_test_states = 10\n",
    "input_states_data = []\n",
    "test_input_states_data = []\n",
    "\n",
    "num_phi = 100\n",
    "var = 1\n",
    "phis = np.linspace(0,1,num_phi+1)*np.pi\n",
    "d_gate_paras = []\n",
    "para_range = [0,3]\n",
    "# var = 1.41\n",
    "np.random.seed(5)\n"
   ]
  },
  {
   "cell_type": "code",
   "execution_count": 13,
   "id": "c8c2ba2a",
   "metadata": {},
   "outputs": [],
   "source": [
    "# Generate Input State Data Measurement Probability Distribution\n",
    "input_state_data = []\n",
    "d_gate_para = [np.random.random()*var,np.abs(np.random.random()*3), np.random.random()*np.pi*2]\n",
    "# d_gate_para = d_gate_paras[i]\n",
    "# d_gate_paras.append(d_gate_para)\n",
    "for j in range(0,len(phis)-1):\n",
    "    prog = sf.Program(1)\n",
    "    with prog.context as q:\n",
    "        sf.ops.Thermal(d_gate_para[0]) | q\n",
    "        sf.ops.Dgate(d_gate_para[1],d_gate_para[2]) | q\n",
    "        sf.ops.Rgate(phis[j])|q\n",
    "\n",
    "    eng = sf.Engine('fock', backend_options={\"cutoff_dim\": 10})\n",
    "    state = eng.run(prog).state\n",
    "    scale = np.sqrt(sf.hbar)\n",
    "    xvec = np.linspace(-6, 6, 100) * scale\n",
    "    pvec = np.linspace(-6, 6, 100) * scale\n",
    "    prob = state.x_quad_values(0, xvec, pvec)\n",
    "    input_state_data.append(prob)\n",
    "input_state_data = np.array(input_state_data)"
   ]
  },
  {
   "cell_type": "code",
   "execution_count": 16,
   "id": "93b9a42c",
   "metadata": {},
   "outputs": [],
   "source": [
    "# Generate Output State Data Measurement Probability Distribution\n",
    "kappa = 1\n",
    "output_state_data = []\n",
    "for j in range(0, len(phis) - 1):\n",
    "    prog = sf.Program(1)\n",
    "    with prog.context as q:\n",
    "        sf.ops.Thermal(d_gate_para[0])\n",
    "        sf.ops.Dgate(d_gate_para[1], d_gate_para[2]) | q\n",
    "        sf.ops.Kgate(kappa) | q\n",
    "        sf.ops.Rgate(phis[j]) | q\n",
    "\n",
    "    eng = sf.Engine('fock', backend_options={\"cutoff_dim\": 10})\n",
    "    state = eng.run(prog).state\n",
    "    scale = np.sqrt(sf.hbar)\n",
    "    xvec = np.linspace(-6, 6, 100) * scale\n",
    "    pvec = np.linspace(-6, 6, 100) * scale\n",
    "    prob = state.x_quad_values(0, xvec, pvec)\n",
    "    output_state_data.append(prob)\n",
    "output_state_data = np.array(output_state_data)"
   ]
  },
  {
   "metadata": {},
   "cell_type": "code",
   "outputs": [],
   "execution_count": null,
   "source": "",
   "id": "a648a241f6f4c883"
  },
  {
   "cell_type": "code",
   "execution_count": 17,
   "id": "06f661a1",
   "metadata": {},
   "outputs": [],
   "source": [
    "num_phi = 100"
   ]
  },
  {
   "cell_type": "code",
   "execution_count": null,
   "id": "d5a8b10a",
   "metadata": {},
   "outputs": [],
   "source": []
  }
 ],
 "metadata": {
  "kernelspec": {
   "display_name": "Python 3 (ipykernel)",
   "language": "python",
   "name": "python3"
  },
  "language_info": {
   "codemirror_mode": {
    "name": "ipython",
    "version": 3
   },
   "file_extension": ".py",
   "mimetype": "text/x-python",
   "name": "python",
   "nbconvert_exporter": "python",
   "pygments_lexer": "ipython3",
   "version": "3.11.3"
  }
 },
 "nbformat": 4,
 "nbformat_minor": 5
}
